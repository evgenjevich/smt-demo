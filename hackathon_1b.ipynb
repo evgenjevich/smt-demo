{
 "cells": [
  {
   "cell_type": "markdown",
   "metadata": {},
   "source": [
    "# Get down the work flow with Hackathon 1b"
   ]
  },
  {
   "cell_type": "code",
   "execution_count": null,
   "metadata": {
    "collapsed": true
   },
   "outputs": [],
   "source": []
  },
  {
   "cell_type": "code",
   "execution_count": 1,
   "metadata": {
    "collapsed": true
   },
   "outputs": [],
   "source": [
    "#import and magics\n",
    "%matplotlib inline\n",
    "%load_ext autoreload\n",
    "%autoreload 2\n",
    "\n",
    "import numpy as np\n",
    "import matplotlib.pyplot as plt"
   ]
  },
  {
   "cell_type": "markdown",
   "metadata": {},
   "source": [
    "create a file to load as parameters"
   ]
  },
  {
   "cell_type": "code",
   "execution_count": null,
   "metadata": {
    "collapsed": true
   },
   "outputs": [],
   "source": [
    "import json\n",
    "import hackathon_params as hp\n",
    "\n",
    "hp.hackParams(10,2)   #this method creates a json file with dictionary of parameters {N, steps}"
   ]
  },
  {
   "cell_type": "markdown",
   "metadata": {},
   "source": [
    "# hackathon file"
   ]
  },
  {
   "cell_type": "markdown",
   "metadata": {},
   "source": [
    "1) load the file of interest, remove any Viewer stuff from it, \n",
    "\n",
    "2) insert the variables from the parameter file so that we can change them, \n",
    "\n",
    "3) load the json parameter file from argv argument\n",
    "\n",
    "4) save the results in some sort of file"
   ]
  },
  {
   "cell_type": "code",
   "execution_count": null,
   "metadata": {
    "collapsed": true
   },
   "outputs": [],
   "source": [
    "# %load fipy_hackathon_1b.py\n",
    "import fipy as fp\n",
    "import numpy as np\n",
    "import json\n",
    "import os\n",
    "import hackathon_params as hp\n",
    "import sys\n",
    "\n",
    "#load in the json parameter file here\n",
    "jsonfile = sys.argv[1]\n",
    "\n",
    "if jsonfile:\n",
    "    with open(jsonfile, 'rb') as ff:\n",
    "        params = json.load(ff)\n",
    "        \n",
    "else:\n",
    "    params = dict()\n",
    "    \n",
    "print 'my params:'. params\n",
    "\n",
    "#extract the parameters\n",
    "N= params.get('N', 20)\n",
    "total steps = params.get('steps', 2)\n",
    "sumatra_label = params.get('sumatra_label', '')\n",
    "\n",
    "mesh = fp.Grid2D(nx=N, ny=N, dx=0.5, dy=0.5)\n",
    "\n",
    "c_alpha = 0.05\n",
    "c_beta = 0.95\n",
    "A = 2.0\n",
    "kappa = 2.0\n",
    "c_m = (c_alpha + c_beta) / 2.\n",
    "B = A / (c_alpha - c_m)**2\n",
    "D = D_alpha = D_beta = 2. / (c_beta - c_alpha)\n",
    "c_0 = 0.45\n",
    "q = np.sqrt((2., 3.))\n",
    "epsilon = 0.01\n",
    "\n",
    "c_var = fp.CellVariable(mesh=mesh, name=r\"$c$\", hasOld=True)\n",
    "\n",
    "r = np.array((mesh.x, mesh.y))\n",
    "c_var[:] = c_0 + epsilon * np.cos((q[:, None] * r).sum(0))\n",
    "\n",
    "f_0_var = -A + 3*B*(c_var - c_m)**2 + 3*c_alpha*(c_var - c_alpha)**2 + 3*c_beta*(c_var - c_beta)**2\n",
    "\n",
    "eqn = fp.TransientTerm(coeff=1.) == fp.DiffusionTerm(D * f_0_var) - fp.DiffusionTerm((D, kappa))\n",
    "\n",
    "elapsed = 0.0\n",
    "steps = 0\n",
    "dt = 0.01\n",
    "total_sweeps = 2\n",
    "tolerance = 1e-1\n",
    "# total_steps = 300\n",
    "\n",
    "c_var[:] = c_0 + epsilon * np.cos((q[:, None] * r).sum(0))\n",
    "\n",
    "c_var.updateOld()\n",
    "\n",
    "from fipy.solvers.pysparse import LinearLUSolver as Solver\n",
    "\n",
    "solver = Solver()\n",
    "\n",
    "while steps < total_steps:\n",
    "    res0 = eqn.sweep(c_var, dt=dt, solver=solver)\n",
    "\n",
    "    for sweeps in range(total_sweeps):\n",
    "        res = eqn.sweep(c_var, dt=dt, solver=solver)\n",
    "\n",
    "        print ' '\n",
    "        print 'steps',steps\n",
    "        print 'res',res\n",
    "        print 'sweeps',sweeps\n",
    "        print 'dt',dt\n",
    "\n",
    "\n",
    "    if res < res0 * tolerance:\n",
    "        steps += 1\n",
    "        elapsed += dt\n",
    "        dt *= 1.1\n",
    "        c_var.updateOld()\n",
    "    else:\n",
    "        dt *= 0.8\n",
    "        c_var[:] = c_var.old\n",
    "        \n",
    "#save the results of c_var\n",
    "#create a filepath where to save the data file\n",
    "filepath = os.path.join('Data', sumatra_label)\n",
    "filename = 'c_var_outputs_1b.txt'\n",
    "np.savetxt(os.path.join(filepath, filename), np.array(c))"
   ]
  },
  {
   "cell_type": "code",
   "execution_count": null,
   "metadata": {
    "collapsed": true
   },
   "outputs": [],
   "source": []
  }
 ],
 "metadata": {
  "kernelspec": {
   "display_name": "Python 2",
   "language": "python",
   "name": "python2"
  },
  "language_info": {
   "codemirror_mode": {
    "name": "ipython",
    "version": 2
   },
   "file_extension": ".py",
   "mimetype": "text/x-python",
   "name": "python",
   "nbconvert_exporter": "python",
   "pygments_lexer": "ipython2",
   "version": "2.7.11"
  }
 },
 "nbformat": 4,
 "nbformat_minor": 0
}
