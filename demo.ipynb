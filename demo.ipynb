{
 "cells": [
  {
   "cell_type": "markdown",
   "metadata": {},
   "source": [
    "# Using Sumatra with Pandas in IPython\n",
    "\n",
    "This notebook demonstrates how to use\n",
    "[Sumatra](http://neuralensemble.org/sumatra/) to capture simulation\n",
    "input data and meta data and then\n",
    "export these records into a Pandas data frame.  Sumatra has a stand\n",
    "alone web interface built with Django which allows users to view the\n",
    "data. Data can also be imported into Python, but requires a lot of\n",
    "code to manipulate and display in useful custom formats. Pandas seems\n",
    "like the ideal solution for manipulating Sumatra's data. In particular\n",
    "the ability to easily and quickly combine input data, meta data, and\n",
    "output data into custom data frames is really powerful for\n",
    "data analysis, reproduciblity and sharing.\n",
    "\n",
    "The first step in using Sumatra is to setup a simulation. Here the\n",
    "simulation just runs a diffusion problem using FiPy and outputs the\n",
    "time taken for a time step. The goal of the work is to test FiPy's parallel\n",
    "speed up based on different input parameters.\n"
   ]
  },
  {
   "cell_type": "markdown",
   "metadata": {},
   "source": [
    "# Setup the Simulations"
   ]
  },
  {
   "cell_type": "code",
   "execution_count": 1,
   "metadata": {
    "collapsed": false
   },
   "outputs": [],
   "source": [
    "%matplotlib inline\n",
    "%load_ext autoreload\n",
    "%autoreload 2\n",
    "\n",
    "import numpy as np\n",
    "import matplotlib.pyplot as plt"
   ]
  },
  {
   "cell_type": "markdown",
   "metadata": {},
   "source": [
    "Sumatra requires a file with the parameters specified."
   ]
  },
  {
   "cell_type": "code",
   "execution_count": 2,
   "metadata": {
    "collapsed": false
   },
   "outputs": [],
   "source": [
    "import json\n",
    "\n",
    "params = {'N' : 10, 'suite' : 'pysparse', 'iterations' : 100}\n",
    "\n",
    "with open('params.json', 'w') as fp:\n",
    "    json.dump(params, fp)"
   ]
  },
  {
   "cell_type": "markdown",
   "metadata": {},
   "source": [
    "The script file for running the simulation is `fipy_timing.py`. It reads the JSON file, runs the simulation and the stores the run times in `data.txt`."
   ]
  },
  {
   "cell_type": "code",
   "execution_count": 3,
   "metadata": {
    "collapsed": false
   },
   "outputs": [
    {
     "name": "stdout",
     "output_type": "stream",
     "text": [
      "Overwriting fipy_timing.py\n"
     ]
    }
   ],
   "source": [
    "%%writefile fipy_timing.py\n",
    "\n",
    "\"\"\"\n",
    "Usage: fipy_timing.py [<jsonfile>]\n",
    "\n",
    "\"\"\"\n",
    "\n",
    "from docopt import docopt\n",
    "import json\n",
    "import timeit\n",
    "import numpy as np\n",
    "import fipy as fp\n",
    "import os\n",
    "\n",
    "arguments = docopt(__doc__, version='Run FiPy timing')\n",
    "jsonfile = arguments['<jsonfile>']\n",
    "\n",
    "if jsonfile:\n",
    "    with open(jsonfile, 'rb') as ff:\n",
    "        params = json.load(ff)\n",
    "else:\n",
    "    params = dict()\n",
    "    \n",
    "N = params.get('N', 10)\n",
    "iterations = params.get('iterations', 100)\n",
    "suite = params.get('suite', 'pysparse')\n",
    "sumatra_label = params.get('sumatra_label', '')\n",
    "\n",
    "attempts = 3\n",
    "\n",
    "setup_str = '''\n",
    "import fipy as fp\n",
    "import numpy as np\n",
    "np.random.seed(1)\n",
    "L = 1.\n",
    "N = {N:d}\n",
    "m = fp.GmshGrid3D(nx=N, ny=N, nz=N, dx=L / N, dy=L / N, dz=L / N)\n",
    "v0 = np.random.random(m.numberOfCells)\n",
    "v = fp.CellVariable(mesh=m)\n",
    "v0 = np.resize(v0, len(v)) ## Gmsh doesn't always give us the correct sized grid!\n",
    "eqn = fp.TransientTerm(1e-3) == fp.DiffusionTerm()\n",
    "v[:] = v0.copy()\n",
    "\n",
    "import fipy.solvers.{suite} as solvers\n",
    "solver = solvers.linearPCGSolver.LinearPCGSolver(precon=None, iterations={iterations}, tolerance=1e-100)\n",
    "\n",
    "eqn.solve(v, dt=1., solver=solver)\n",
    "v[:] = v0.copy()\n",
    "'''\n",
    "\n",
    "timeit_str = '''\n",
    "eqn.solve(v, dt=1., solver=solver)\n",
    "fp.parallelComm.Barrier()\n",
    "'''\n",
    "\n",
    "timer = timeit.Timer(timeit_str, setup=setup_str.format(N=N, suite=suite, iterations=iterations))\n",
    "times = timer.repeat(attempts, 1)\n",
    "\n",
    "# if fp.parallelComm.procID == 0:\n",
    "filepath = os.path.join('Data', sumatra_label)\n",
    "filename = 'data.txt'\n",
    "np.savetxt(os.path.join(filepath, filename), times)\n",
    "\n",
    "print times"
   ]
  },
  {
   "cell_type": "markdown",
   "metadata": {},
   "source": [
    "Without using Sumatra and in serial this is run with"
   ]
  },
  {
   "cell_type": "code",
   "execution_count": 4,
   "metadata": {
    "collapsed": false
   },
   "outputs": [
    {
     "name": "stdout",
     "output_type": "stream",
     "text": [
      "/users/aem1/miniconda2/lib/python2.7/timeit.py:19: MaximumIterationWarning: Iterations: 101. Relative error: 1.81008e-08\n",
      "  -c/--clock: use time.clock() (default on Windows)\n",
      "/users/aem1/miniconda2/lib/python2.7/timeit.py:25: MaximumIterationWarning: Iterations: 101. Relative error: 1.81008e-08\n",
      "  A multi-line statement may be given by specifying each line as a\n",
      "[0.014670133590698242, 0.03576397895812988, 0.016131877899169922]\n"
     ]
    }
   ],
   "source": [
    "#to install gmsh run \"conda install --channel guyer numpy==1.9 pysparse pip gmsh\"\n",
    "#to install PyTrilinos run \"conda install --channel guyer numpy==1.9 pysparse openmpi trilinos mpi4py\"\n",
    "#trilinos is mainly used for linear solvers, it also includes PDE solvers but they are low level, FiPy is a better PDE solvers\n",
    "\n",
    "#but actually you should use pysparse instead of trilinos\n",
    "!python fipy_timing.py params.json"
   ]
  },
  {
   "cell_type": "markdown",
   "metadata": {},
   "source": [
    "and the output data file is "
   ]
  },
  {
   "cell_type": "code",
   "execution_count": 5,
   "metadata": {
    "collapsed": false
   },
   "outputs": [
    {
     "name": "stdout",
     "output_type": "stream",
     "text": [
      "1.467013359069824219e-02\r\n",
      "3.576397895812988281e-02\r\n",
      "1.613187789916992188e-02\r\n"
     ]
    }
   ],
   "source": [
    "!more Data/data.txt"
   ]
  },
  {
   "cell_type": "markdown",
   "metadata": {},
   "source": [
    "# Create a Git Repository"
   ]
  },
  {
   "cell_type": "markdown",
   "metadata": {},
   "source": [
    "In this demo, I'm assuming that the working directory is a Git repository set up with\n",
    "\n",
    "    $ git init\n",
    "$ git add fipy_timing.py\n",
    "    $ git ci -m \"Add timing script.\"\n",
    "    \n",
    "Sumatra requires that the script is sitting in the a working copy of a repository."
   ]
  },
  {
   "cell_type": "code",
   "execution_count": 6,
   "metadata": {
    "collapsed": false
   },
   "outputs": [
    {
     "name": "stdout",
     "output_type": "stream",
     "text": [
      "\u001b[33mcommit 3471a177167a8ca73e608f82a50f6a265c10db1a\u001b[m\r\n",
      "Author: Daniel Wheeler <daniel.wheeler2@gmail.com>\r\n",
      "Date:   Fri Mar 7 15:01:27 2014 -0500\r\n",
      "\r\n",
      "    Changes prompted by Jon's use of the repository.\r\n",
      "    \r\n",
      "     * Add `mkdir Data`, which Sumatra requires.\r\n",
      "    \r\n",
      "     * Add Sumatra as a requirement and changes I made to Sumatra.\r\n",
      "    \r\n",
      "     * Add imports at beginning of Demo.\r\n",
      "    \r\n",
      "     * Fix the demo so it can be executed without failure\r\n",
      "    \r\n",
      "     * Include chnages made to Sumatra.\r\n",
      "    \r\n",
      "     * Added changes made to\r\n"
     ]
    }
   ],
   "source": [
    "!git log -1"
   ]
  },
  {
   "cell_type": "markdown",
   "metadata": {},
   "source": [
    "# Configure Sumatra"
   ]
  },
  {
   "cell_type": "markdown",
   "metadata": {},
   "source": [
    "Once the repository is setup, the Sumatra repository can be configured. Here we are using the `distributed` launch mode as we want Sumatra to launch and\n",
    "record parallel jobs."
   ]
  },
  {
   "cell_type": "code",
   "execution_count": 7,
   "metadata": {
    "collapsed": false
   },
   "outputs": [
    {
     "name": "stdout",
     "output_type": "stream",
     "text": [
      "Sumatra project successfully set up\n",
      "Multiple versions found, using /users/aem1/miniconda2/bin/python. If you wish to use a different version, please specify it explicitly\n",
      "Multiple versions found, using /users/aem1/miniconda2/bin/python. If you wish to use a different version, please specify it explicitly\n"
     ]
    }
   ],
   "source": [
    "%%bash\n",
    "\n",
    "\\rm -rf .smt\n",
    "smt init smt-demo\n",
    "smt configure --executable=python --main=fipy_timing.py\n",
    "smt configure --launch_mode=serial\n",
    "smt configure -g uuid\n",
    "smt configure -c store-diff\n",
    "smt configure --addlabel=parameters"
   ]
  },
  {
   "cell_type": "markdown",
   "metadata": {},
   "source": [
    "Sumatra requires that  a `Data/` directory exists in the working copy."
   ]
  },
  {
   "cell_type": "code",
   "execution_count": 54,
   "metadata": {
    "collapsed": false
   },
   "outputs": [
    {
     "name": "stdout",
     "output_type": "stream",
     "text": [
      "mkdir: cannot create directory ‘Data’: File exists\r\n"
     ]
    }
   ],
   "source": [
    "!mkdir Data"
   ]
  },
  {
   "cell_type": "markdown",
   "metadata": {},
   "source": [
    "If we were not using Sumatra, we would launch the job with \n",
    "\n",
    "    $ mpirun -n 2 python fipy_timing.py params.json\n",
    "    \n",
    "The equivalent command using Sumatra is\n",
    "\n",
    "    $ smt run -n 2 params.json\n",
    " "
   ]
  },
  {
   "cell_type": "markdown",
   "metadata": {},
   "source": [
    "# Run Simulations\n",
    "\n",
    "In the following cell we just run a batch of simulations with varying parameters."
   ]
  },
  {
   "cell_type": "code",
   "execution_count": 8,
   "metadata": {
    "collapsed": false
   },
   "outputs": [
    {
     "name": "stdout",
     "output_type": "stream",
     "text": [
      "/users/aem1/miniconda2/lib/python2.7/timeit.py:19: MaximumIterationWarning: Iterations: 101. Relative error: 1.81008e-08\n",
      "  -c/--clock: use time.clock() (default on Windows)\n",
      "/users/aem1/miniconda2/lib/python2.7/timeit.py:25: MaximumIterationWarning: Iterations: 101. Relative error: 1.81008e-08\n",
      "  A multi-line statement may be given by specifying each line as a\n",
      "[0.014488935470581055, 0.014088869094848633, 0.014143943786621094]\n",
      "Record label for this run: '1ad2421806fb'\n",
      "Data keys are [data.txt(0d3d7da194ee3ec0109eec2c72adeb0912c52acb [2016-06-06 09:16:50])]\n",
      "/users/aem1/miniconda2/lib/python2.7/timeit.py:19: MaximumIterationWarning: Iterations: 101. Relative error: 7.22033e-07\n",
      "  -c/--clock: use time.clock() (default on Windows)\n",
      "/users/aem1/miniconda2/lib/python2.7/timeit.py:25: MaximumIterationWarning: Iterations: 101. Relative error: 7.22033e-07\n",
      "  A multi-line statement may be given by specifying each line as a\n",
      "[0.0161130428314209, 0.015719175338745117, 0.015771865844726562]\n",
      "Record label for this run: 'dfd4cf51887c'\n",
      "Data keys are [data.txt(a035459d4748431e6d3848ff4423252f51a162d2 [2016-06-06 09:17:57])]\n"
     ]
    }
   ],
   "source": [
    "import itertools\n",
    "\n",
    "nprocs = (1,)#\n",
    "iterations_ = (100,)\n",
    "Ns = (10, 11) #changed (10,40) to (10,11) for less runs\n",
    "suites = ('pysparse',)\n",
    "tag='demo4'\n",
    "\n",
    "for nproc, iterations, N, suite in itertools.product(nprocs, iterations_, Ns, suites):\n",
    "    !smt run --tag=$tag params.json N=$N iterations=$iterations suite=$suite"
   ]
  },
  {
   "cell_type": "markdown",
   "metadata": {},
   "source": [
    "# Import into Pandas Dataframe\n",
    "\n",
    "The important part of this story is how to import the data into the Pandas data frame. This is actually trivial as Sumatra's default export format is a JSON file with all the records."
   ]
  },
  {
   "cell_type": "code",
   "execution_count": 9,
   "metadata": {
    "collapsed": false
   },
   "outputs": [],
   "source": [
    "import json\n",
    "import pandas\n",
    "\n",
    "!smt export\n",
    "with open('.smt/records_export.json') as ff:\n",
    "    data = json.load(ff)\n",
    "\n",
    "with open('record1.json', 'w') as record1:\n",
    "    record1.write(json.dumps(data[0], sort_keys=True, indent=4, separators=(',', ': ')))\n",
    "\n",
    "df = pandas.DataFrame(data)"
   ]
  },
  {
   "cell_type": "markdown",
   "metadata": {},
   "source": [
    "The Sumatra data is now in a Pandas data frame, albeit a touch raw."
   ]
  },
  {
   "cell_type": "code",
   "execution_count": 94,
   "metadata": {
    "collapsed": false
   },
   "outputs": [
    {
     "name": "stdout",
     "output_type": "stream",
     "text": [
      "0    {u'content': u'{\n",
      "    \"N\": 11, \n",
      "    \"iterations...\n",
      "1    {u'content': u'{\n",
      "    \"N\": 10, \n",
      "    \"iterations...\n",
      "Name: parameters, dtype: object\n"
     ]
    }
   ],
   "source": [
    "print df['parameters']"
   ]
  },
  {
   "cell_type": "code",
   "execution_count": 95,
   "metadata": {
    "collapsed": false
   },
   "outputs": [
    {
     "name": "stdout",
     "output_type": "stream",
     "text": [
      "          label  duration\n",
      "0  6cee1bdcbf7e  2.394176\n",
      "1  55513714ade7  1.960150\n"
     ]
    }
   ],
   "source": [
    "print df[['label', 'duration']]"
   ]
  },
  {
   "cell_type": "markdown",
   "metadata": {},
   "source": [
    "# Reformat the Raw Imported Dataframe\n",
    "\n",
    "While all the meta data is important, often we want the input and\n",
    "output data combined into a data frame in a digestible\n",
    "form. Typically, we want a graph of reduced input versus reduced\n",
    "output.\n",
    "\n",
    "The first step is to introduce columns in the data frame for each of the input parameters (input data). The input data is buried in the `launch_mode` and `parameters` columns of the raw data frame."
   ]
  },
  {
   "cell_type": "code",
   "execution_count": 96,
   "metadata": {
    "collapsed": false
   },
   "outputs": [
    {
     "name": "stdout",
     "output_type": "stream",
     "text": [
      "SerialLaunchMode\n",
      "SerialLaunchMode\n"
     ]
    }
   ],
   "source": [
    "for index in range(len(df['launch_mode'])):\n",
    "   print df['launch_mode'][index]['type']\n",
    "#    print df['launch_mode'][index]['parameters']"
   ]
  },
  {
   "cell_type": "code",
   "execution_count": 12,
   "metadata": {
    "collapsed": false
   },
   "outputs": [
    {
     "name": "stdout",
     "output_type": "stream",
     "text": [
      "0    {u'content': u'{\n",
      "    \"N\": 11, \n",
      "    \"iterations...\n",
      "1    {u'content': u'{\n",
      "    \"N\": 10, \n",
      "    \"iterations...\n",
      "Name: parameters, dtype: object\n"
     ]
    }
   ],
   "source": [
    "#not running this cell anymore, it is the original\n",
    "import json\n",
    "df = df.copy()\n",
    "print df.parameters\n",
    "df['nproc'] = 1 # We are running in serial\n",
    "for p in 'N', 'iterations', 'suite':\n",
    "    df[p] = df.parameters.map(lambda x: json.loads(x['content'])[p])\n",
    "\n",
    "# print df.parameters[0]"
   ]
  },
  {
   "cell_type": "markdown",
   "metadata": {},
   "source": [
    "We now have the input data exposed as columns in the data frame."
   ]
  },
  {
   "cell_type": "code",
   "execution_count": 13,
   "metadata": {
    "collapsed": false
   },
   "outputs": [
    {
     "name": "stdout",
     "output_type": "stream",
     "text": [
      "          label  nproc   N  iterations     suite     tags\n",
      "0  dfd4cf51887c      1  11         100  pysparse  [demo4]\n",
      "1  1ad2421806fb      1  10         100  pysparse  [demo4]\n"
     ]
    }
   ],
   "source": [
    "columns = ['label', 'nproc', 'N', 'iterations', 'suite', 'tags']\n",
    "print df[columns]"
   ]
  },
  {
   "cell_type": "markdown",
   "metadata": {},
   "source": [
    "The following pulls out the run times stored in the output files from each simulation into a `run_time` column."
   ]
  },
  {
   "cell_type": "code",
   "execution_count": 15,
   "metadata": {
    "collapsed": false
   },
   "outputs": [
    {
     "name": "stdout",
     "output_type": "stream",
     "text": [
      "[array([ 0.01611304,  0.01571918,  0.01577187]), array([ 0.01448894,  0.01408887,  0.01414394])]\n"
     ]
    }
   ],
   "source": [
    "import os\n",
    "\n",
    "datafiles = df['output_data'].map(lambda x: x[0]['path']) \n",
    "datapaths = df['datastore'].map(lambda x: x['parameters']['root'])\n",
    "data = [np.loadtxt(os.path.join(x, y)) for x, y in zip(datapaths, datafiles)]\n",
    "print data\n",
    "df['run_time'] = [min(d) for d in data]\n",
    "# print df['output_data'][0]"
   ]
  },
  {
   "cell_type": "code",
   "execution_count": 109,
   "metadata": {
    "collapsed": false
   },
   "outputs": [
    {
     "name": "stdout",
     "output_type": "stream",
     "text": [
      "          label  nproc   N  iterations     suite     tags  run_time  run_time\n",
      "0  6cee1bdcbf7e      1  11         100  pysparse  [demo4]  0.017032  0.017032\n",
      "1  55513714ade7      1  10         100  pysparse  [demo4]  0.014171  0.014171\n"
     ]
    }
   ],
   "source": [
    "columns.append('run_time')\n",
    "print df[columns]"
   ]
  },
  {
   "cell_type": "markdown",
   "metadata": {},
   "source": [
    "Create masks based on simulations records that have been tagged with either `demo2` or `demo3`. We want to plot these results as different curves on the same graph."
   ]
  },
  {
   "cell_type": "code",
   "execution_count": 25,
   "metadata": {
    "collapsed": false
   },
   "outputs": [
    {
     "name": "stdout",
     "output_type": "stream",
     "text": [
      "                                           datastore  \\\n",
      "0  {u'type': u'FileSystemDataStore', u'parameters...   \n",
      "1  {u'type': u'FileSystemDataStore', u'parameters...   \n",
      "\n",
      "                                        dependencies  \\\n",
      "0  [{u'name': u'IPython', u'module': u'python', u...   \n",
      "1  [{u'name': u'IPython', u'module': u'python', u...   \n",
      "\n",
      "                                                diff  duration  \\\n",
      "0  diff --git a/demo.ipynb b/demo.ipynb\\nindex 5d...  4.966687   \n",
      "1  diff --git a/demo.ipynb b/demo.ipynb\\nindex 5d...  1.794884   \n",
      "\n",
      "                                          executable input_data  \\\n",
      "0  {u'path': u'/users/aem1/miniconda2/bin/python'...         []   \n",
      "1  {u'path': u'/users/aem1/miniconda2/bin/python'...         []   \n",
      "\n",
      "                                     input_datastore         label  \\\n",
      "0  {u'type': u'FileSystemDataStore', u'parameters...  dfd4cf51887c   \n",
      "1  {u'type': u'FileSystemDataStore', u'parameters...  1ad2421806fb   \n",
      "\n",
      "                                         launch_mode       main_file  \\\n",
      "0  {u'type': u'SerialLaunchMode', u'parameters': ...  fipy_timing.py   \n",
      "1  {u'type': u'SerialLaunchMode', u'parameters': ...  fipy_timing.py   \n",
      "\n",
      "     ...                                         stdout_stderr     tags  \\\n",
      "0    ...     /users/aem1/miniconda2/lib/python2.7/timeit.py...  [demo4]   \n",
      "1    ...     /users/aem1/miniconda2/lib/python2.7/timeit.py...  [demo4]   \n",
      "\n",
      "             timestamp                                            user  \\\n",
      "0  2016-06-06 09:17:42  Andrey Moskalenko <andrey.moskalenko@nist.gov>   \n",
      "1  2016-06-06 09:16:37  Andrey Moskalenko <andrey.moskalenko@nist.gov>   \n",
      "\n",
      "                                    version nproc   N iterations     suite  \\\n",
      "0  3471a177167a8ca73e608f82a50f6a265c10db1a     1  11        100  pysparse   \n",
      "1  3471a177167a8ca73e608f82a50f6a265c10db1a     1  10        100  pysparse   \n",
      "\n",
      "   run_time  \n",
      "0  0.015719  \n",
      "1  0.014089  \n",
      "\n",
      "[2 rows x 28 columns]\n",
      "          label  nproc   N  iterations     suite     tags\n",
      "1  1ad2421806fb      1  10         100  pysparse  [demo4]\n",
      "          label  nproc   N  iterations     suite     tags\n",
      "0  dfd4cf51887c      1  11         100  pysparse  [demo4]\n"
     ]
    }
   ],
   "source": [
    "# del(df_tmp)\n",
    "print df_tmp\n",
    "tag_mask = df.tags.map(lambda x: 'demo4' in x)\n",
    "df_tmp = df[tag_mask]\n",
    "m10 = df_tmp.N.map(lambda x: x == 10)\n",
    "m40 = df_tmp.N.map(lambda x: x == 11)\n",
    "df_N10 = df_tmp[m10]\n",
    "df_N40 = df_tmp[m40]\n",
    "print df_N10[columns]\n",
    "print df_N40[columns]\n",
    "\n",
    "# print df_tmp"
   ]
  },
  {
   "cell_type": "code",
   "execution_count": 27,
   "metadata": {
    "collapsed": false
   },
   "outputs": [
    {
     "name": "stdout",
     "output_type": "stream",
     "text": [
      "                                           datastore  \\\n",
      "1  {u'type': u'FileSystemDataStore', u'parameters...   \n",
      "\n",
      "                                        dependencies  \\\n",
      "1  [{u'name': u'IPython', u'module': u'python', u...   \n",
      "\n",
      "                                                diff  duration  \\\n",
      "1  diff --git a/demo.ipynb b/demo.ipynb\\nindex 5d...  1.794884   \n",
      "\n",
      "                                          executable input_data  \\\n",
      "1  {u'path': u'/users/aem1/miniconda2/bin/python'...         []   \n",
      "\n",
      "                                     input_datastore         label  \\\n",
      "1  {u'type': u'FileSystemDataStore', u'parameters...  1ad2421806fb   \n",
      "\n",
      "                                         launch_mode       main_file  \\\n",
      "1  {u'type': u'SerialLaunchMode', u'parameters': ...  fipy_timing.py   \n",
      "\n",
      "     ...                                         stdout_stderr     tags  \\\n",
      "1    ...     /users/aem1/miniconda2/lib/python2.7/timeit.py...  [demo4]   \n",
      "\n",
      "             timestamp                                            user  \\\n",
      "1  2016-06-06 09:16:37  Andrey Moskalenko <andrey.moskalenko@nist.gov>   \n",
      "\n",
      "                                    version nproc   N iterations     suite  \\\n",
      "1  3471a177167a8ca73e608f82a50f6a265c10db1a     1  10        100  pysparse   \n",
      "\n",
      "   run_time  \n",
      "1  0.014089  \n",
      "\n",
      "[1 rows x 28 columns]\n"
     ]
    }
   ],
   "source": [
    "print df_N10"
   ]
  },
  {
   "cell_type": "markdown",
   "metadata": {},
   "source": [
    "We can plot the results we're interested in. Larger system size gives better parallel speed up."
   ]
  },
  {
   "cell_type": "code",
   "execution_count": 26,
   "metadata": {
    "collapsed": false
   },
   "outputs": [
    {
     "name": "stderr",
     "output_type": "stream",
     "text": [
      "/users/aem1/miniconda2/lib/python2.7/site-packages/matplotlib/axes/_base.py:2562: UserWarning: Attempting to set identical left==right results\n",
      "in singular transformations; automatically expanding.\n",
      "left=10.0, right=10.0\n",
      "  'left=%s, right=%s') % (left, right))\n"
     ]
    },
    {
     "data": {
      "text/plain": [
       "<matplotlib.legend.Legend at 0x7f8d60630290>"
      ]
     },
     "execution_count": 26,
     "metadata": {},
     "output_type": "execute_result"
    },
    {
     "data": {
      "image/png": "[encoded data removed]",
      "text/plain": [
       "<matplotlib.figure.Figure at 0x7f8d605c9750>"
      ]
     },
     "metadata": {},
     "output_type": "display_data"
    }
   ],
   "source": [
    "ax = df_N10.plot('N', 'run_time', label='N={0}'.format(df_N10.N.iat[0]))\n",
    "df_N40.plot('N', 'run_time', ylim=0, ax=ax, label='N={0}'.format(df_N40.N.iat[0]))\n",
    "plt.ylabel('Run Time (s)')\n",
    "plt.xlabel('Grid sizes')\n",
    "plt.legend()"
   ]
  },
  {
   "cell_type": "markdown",
   "metadata": {},
   "source": [
    "Using Pandas it is easy to store a custom data frame."
   ]
  },
  {
   "cell_type": "code",
   "execution_count": 115,
   "metadata": {
    "collapsed": false
   },
   "outputs": [
    {
     "ename": "ImportError",
     "evalue": "HDFStore requires PyTables, \"No module named tables\" problem importing",
     "output_type": "error",
     "traceback": [
      "\u001b[1;31m---------------------------------------------------------------------------\u001b[0m",
      "\u001b[1;31mImportError\u001b[0m                               Traceback (most recent call last)",
      "\u001b[1;32m<ipython-input-115-75319471dfb0>\u001b[0m in \u001b[0;36m<module>\u001b[1;34m()\u001b[0m\n\u001b[1;32m----> 1\u001b[1;33m \u001b[0mdf\u001b[0m\u001b[1;33m.\u001b[0m\u001b[0mto_hdf\u001b[0m\u001b[1;33m(\u001b[0m\u001b[1;34m'store.h5'\u001b[0m\u001b[1;33m,\u001b[0m \u001b[1;34m'df'\u001b[0m\u001b[1;33m)\u001b[0m\u001b[1;33m\u001b[0m\u001b[0m\n\u001b[0m",
      "\u001b[1;32m/users/aem1/miniconda2/lib/python2.7/site-packages/pandas/core/generic.pyc\u001b[0m in \u001b[0;36mto_hdf\u001b[1;34m(self, path_or_buf, key, **kwargs)\u001b[0m\n\u001b[0;32m   1099\u001b[0m \u001b[1;33m\u001b[0m\u001b[0m\n\u001b[0;32m   1100\u001b[0m         \u001b[1;32mfrom\u001b[0m \u001b[0mpandas\u001b[0m\u001b[1;33m.\u001b[0m\u001b[0mio\u001b[0m \u001b[1;32mimport\u001b[0m \u001b[0mpytables\u001b[0m\u001b[1;33m\u001b[0m\u001b[0m\n\u001b[1;32m-> 1101\u001b[1;33m         \u001b[1;32mreturn\u001b[0m \u001b[0mpytables\u001b[0m\u001b[1;33m.\u001b[0m\u001b[0mto_hdf\u001b[0m\u001b[1;33m(\u001b[0m\u001b[0mpath_or_buf\u001b[0m\u001b[1;33m,\u001b[0m \u001b[0mkey\u001b[0m\u001b[1;33m,\u001b[0m \u001b[0mself\u001b[0m\u001b[1;33m,\u001b[0m \u001b[1;33m**\u001b[0m\u001b[0mkwargs\u001b[0m\u001b[1;33m)\u001b[0m\u001b[1;33m\u001b[0m\u001b[0m\n\u001b[0m\u001b[0;32m   1102\u001b[0m \u001b[1;33m\u001b[0m\u001b[0m\n\u001b[0;32m   1103\u001b[0m     \u001b[1;32mdef\u001b[0m \u001b[0mto_msgpack\u001b[0m\u001b[1;33m(\u001b[0m\u001b[0mself\u001b[0m\u001b[1;33m,\u001b[0m \u001b[0mpath_or_buf\u001b[0m\u001b[1;33m=\u001b[0m\u001b[0mNone\u001b[0m\u001b[1;33m,\u001b[0m \u001b[0mencoding\u001b[0m\u001b[1;33m=\u001b[0m\u001b[1;34m'utf-8'\u001b[0m\u001b[1;33m,\u001b[0m \u001b[1;33m**\u001b[0m\u001b[0mkwargs\u001b[0m\u001b[1;33m)\u001b[0m\u001b[1;33m:\u001b[0m\u001b[1;33m\u001b[0m\u001b[0m\n",
      "\u001b[1;32m/users/aem1/miniconda2/lib/python2.7/site-packages/pandas/io/pytables.pyc\u001b[0m in \u001b[0;36mto_hdf\u001b[1;34m(path_or_buf, key, value, mode, complevel, complib, append, **kwargs)\u001b[0m\n\u001b[0;32m    257\u001b[0m     \u001b[1;32mif\u001b[0m \u001b[0misinstance\u001b[0m\u001b[1;33m(\u001b[0m\u001b[0mpath_or_buf\u001b[0m\u001b[1;33m,\u001b[0m \u001b[0mstring_types\u001b[0m\u001b[1;33m)\u001b[0m\u001b[1;33m:\u001b[0m\u001b[1;33m\u001b[0m\u001b[0m\n\u001b[0;32m    258\u001b[0m         with HDFStore(path_or_buf, mode=mode, complevel=complevel,\n\u001b[1;32m--> 259\u001b[1;33m                       complib=complib) as store:\n\u001b[0m\u001b[0;32m    260\u001b[0m             \u001b[0mf\u001b[0m\u001b[1;33m(\u001b[0m\u001b[0mstore\u001b[0m\u001b[1;33m)\u001b[0m\u001b[1;33m\u001b[0m\u001b[0m\n\u001b[0;32m    261\u001b[0m     \u001b[1;32melse\u001b[0m\u001b[1;33m:\u001b[0m\u001b[1;33m\u001b[0m\u001b[0m\n",
      "\u001b[1;32m/users/aem1/miniconda2/lib/python2.7/site-packages/pandas/io/pytables.pyc\u001b[0m in \u001b[0;36m__init__\u001b[1;34m(self, path, mode, complevel, complib, fletcher32, **kwargs)\u001b[0m\n\u001b[0;32m    387\u001b[0m         \u001b[1;32mexcept\u001b[0m \u001b[0mImportError\u001b[0m \u001b[1;32mas\u001b[0m \u001b[0mex\u001b[0m\u001b[1;33m:\u001b[0m  \u001b[1;31m# pragma: no cover\u001b[0m\u001b[1;33m\u001b[0m\u001b[0m\n\u001b[0;32m    388\u001b[0m             raise ImportError('HDFStore requires PyTables, \"{ex}\" problem '\n\u001b[1;32m--> 389\u001b[1;33m                               'importing'.format(ex=str(ex)))\n\u001b[0m\u001b[0;32m    390\u001b[0m \u001b[1;33m\u001b[0m\u001b[0m\n\u001b[0;32m    391\u001b[0m         \u001b[1;32mif\u001b[0m \u001b[0mcomplib\u001b[0m \u001b[1;32mnot\u001b[0m \u001b[1;32min\u001b[0m \u001b[1;33m(\u001b[0m\u001b[0mNone\u001b[0m\u001b[1;33m,\u001b[0m \u001b[1;34m'blosc'\u001b[0m\u001b[1;33m,\u001b[0m \u001b[1;34m'bzip2'\u001b[0m\u001b[1;33m,\u001b[0m \u001b[1;34m'lzo'\u001b[0m\u001b[1;33m,\u001b[0m \u001b[1;34m'zlib'\u001b[0m\u001b[1;33m)\u001b[0m\u001b[1;33m:\u001b[0m\u001b[1;33m\u001b[0m\u001b[0m\n",
      "\u001b[1;31mImportError\u001b[0m: HDFStore requires PyTables, \"No module named tables\" problem importing"
     ]
    }
   ],
   "source": [
    "df.to_hdf('store.h5', 'df')"
   ]
  },
  {
   "cell_type": "code",
   "execution_count": 116,
   "metadata": {
    "collapsed": false
   },
   "outputs": [
    {
     "ename": "NameError",
     "evalue": "name 'b' is not defined",
     "output_type": "error",
     "traceback": [
      "\u001b[1;31m---------------------------------------------------------------------------\u001b[0m",
      "\u001b[1;31mNameError\u001b[0m                                 Traceback (most recent call last)",
      "\u001b[1;32m<ipython-input-116-4dbaddea8b62>\u001b[0m in \u001b[0;36m<module>\u001b[1;34m()\u001b[0m\n\u001b[1;32m----> 1\u001b[1;33m \u001b[0mb\u001b[0m\u001b[1;33m\u001b[0m\u001b[0m\n\u001b[0m\u001b[0;32m      2\u001b[0m \u001b[1;32mprint\u001b[0m \u001b[0mstore\u001b[0m\u001b[1;33m.\u001b[0m\u001b[0mdf\u001b[0m\u001b[1;33m.\u001b[0m\u001b[0mdependencies\u001b[0m\u001b[1;33m\u001b[0m\u001b[0m\n",
      "\u001b[1;31mNameError\u001b[0m: name 'b' is not defined"
     ]
    }
   ],
   "source": [
    "b\n",
    "print store.df.dependencies"
   ]
  },
  {
   "cell_type": "code",
   "execution_count": 117,
   "metadata": {
    "collapsed": false
   },
   "outputs": [
    {
     "name": "stdout",
     "output_type": "stream",
     "text": [
      "   a  b  c\n",
      "0  1  a  5\n",
      "1  2  b  6\n",
      "2  3  c  7\n"
     ]
    }
   ],
   "source": [
    "import pandas as pd\n",
    "\n",
    "df = pd.DataFrame({'a' : [1, 2, 3], 'b' : ['a', 'b', 'c']})\n",
    "df['c'] = [5, 6, 7]\n",
    "print df\n"
   ]
  },
  {
   "cell_type": "markdown",
   "metadata": {},
   "source": [
    "# Conclusion\n",
    "\n",
    "Sumatra stores data in an SQL style database and this isn't ideal for pulling data into Python for data manipulation. Pandas is good for data manipulation and pulling the records out of Sumatra and into Pandas is very easy."
   ]
  }
 ],
 "metadata": {
  "kernelspec": {
   "display_name": "Python 2",
   "language": "python",
   "name": "python2"
  },
  "language_info": {
   "codemirror_mode": {
    "name": "ipython",
    "version": 2
   },
   "file_extension": ".py",
   "mimetype": "text/x-python",
   "name": "python",
   "nbconvert_exporter": "python",
   "pygments_lexer": "ipython2",
   "version": "2.7.11"
  }
 },
 "nbformat": 4,
 "nbformat_minor": 0
}
